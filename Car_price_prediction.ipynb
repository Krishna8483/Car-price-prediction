{
 "cells": [
  {
   "cell_type": "code",
   "execution_count": 1,
   "metadata": {},
   "outputs": [],
   "source": [
    "#importing libraries\n",
    "import pandas as pd\n",
    "import seaborn as sns\n",
    "import pandas as pd\n",
    "from matplotlib import pyplot as plt\n",
    "from sklearn.model_selection import train_test_split\n",
    "from sklearn.linear_model import LinearRegression\n",
    "from sklearn.linear_model import Lasso\n",
    "from sklearn import metrics"
   ]
  },
  {
   "cell_type": "code",
   "execution_count": 2,
   "metadata": {},
   "outputs": [],
   "source": [
    "#loading the data from csv file to pandas dataframe\n",
    "df=pd.read_csv('C:/Users/Krishna/Desktop/Datasets/car data.csv')"
   ]
  },
  {
   "cell_type": "code",
   "execution_count": 3,
   "metadata": {},
   "outputs": [
    {
     "data": {
      "text/html": [
       "<div>\n",
       "<style scoped>\n",
       "    .dataframe tbody tr th:only-of-type {\n",
       "        vertical-align: middle;\n",
       "    }\n",
       "\n",
       "    .dataframe tbody tr th {\n",
       "        vertical-align: top;\n",
       "    }\n",
       "\n",
       "    .dataframe thead th {\n",
       "        text-align: right;\n",
       "    }\n",
       "</style>\n",
       "<table border=\"1\" class=\"dataframe\">\n",
       "  <thead>\n",
       "    <tr style=\"text-align: right;\">\n",
       "      <th></th>\n",
       "      <th>Car_Name</th>\n",
       "      <th>Year</th>\n",
       "      <th>Selling_Price</th>\n",
       "      <th>Present_Price</th>\n",
       "      <th>Kms_Driven</th>\n",
       "      <th>Fuel_Type</th>\n",
       "      <th>Seller_Type</th>\n",
       "      <th>Transmission</th>\n",
       "      <th>Owner</th>\n",
       "    </tr>\n",
       "  </thead>\n",
       "  <tbody>\n",
       "    <tr>\n",
       "      <th>0</th>\n",
       "      <td>ritz</td>\n",
       "      <td>2014</td>\n",
       "      <td>3.35</td>\n",
       "      <td>5.59</td>\n",
       "      <td>27000</td>\n",
       "      <td>Petrol</td>\n",
       "      <td>Dealer</td>\n",
       "      <td>Manual</td>\n",
       "      <td>0</td>\n",
       "    </tr>\n",
       "    <tr>\n",
       "      <th>1</th>\n",
       "      <td>sx4</td>\n",
       "      <td>2013</td>\n",
       "      <td>4.75</td>\n",
       "      <td>9.54</td>\n",
       "      <td>43000</td>\n",
       "      <td>Diesel</td>\n",
       "      <td>Dealer</td>\n",
       "      <td>Manual</td>\n",
       "      <td>0</td>\n",
       "    </tr>\n",
       "    <tr>\n",
       "      <th>2</th>\n",
       "      <td>ciaz</td>\n",
       "      <td>2017</td>\n",
       "      <td>7.25</td>\n",
       "      <td>9.85</td>\n",
       "      <td>6900</td>\n",
       "      <td>Petrol</td>\n",
       "      <td>Dealer</td>\n",
       "      <td>Manual</td>\n",
       "      <td>0</td>\n",
       "    </tr>\n",
       "    <tr>\n",
       "      <th>3</th>\n",
       "      <td>wagon r</td>\n",
       "      <td>2011</td>\n",
       "      <td>2.85</td>\n",
       "      <td>4.15</td>\n",
       "      <td>5200</td>\n",
       "      <td>Petrol</td>\n",
       "      <td>Dealer</td>\n",
       "      <td>Manual</td>\n",
       "      <td>0</td>\n",
       "    </tr>\n",
       "    <tr>\n",
       "      <th>4</th>\n",
       "      <td>swift</td>\n",
       "      <td>2014</td>\n",
       "      <td>4.60</td>\n",
       "      <td>6.87</td>\n",
       "      <td>42450</td>\n",
       "      <td>Diesel</td>\n",
       "      <td>Dealer</td>\n",
       "      <td>Manual</td>\n",
       "      <td>0</td>\n",
       "    </tr>\n",
       "  </tbody>\n",
       "</table>\n",
       "</div>"
      ],
      "text/plain": [
       "  Car_Name  Year  Selling_Price  Present_Price  Kms_Driven Fuel_Type  \\\n",
       "0     ritz  2014           3.35           5.59       27000    Petrol   \n",
       "1      sx4  2013           4.75           9.54       43000    Diesel   \n",
       "2     ciaz  2017           7.25           9.85        6900    Petrol   \n",
       "3  wagon r  2011           2.85           4.15        5200    Petrol   \n",
       "4    swift  2014           4.60           6.87       42450    Diesel   \n",
       "\n",
       "  Seller_Type Transmission  Owner  \n",
       "0      Dealer       Manual      0  \n",
       "1      Dealer       Manual      0  \n",
       "2      Dealer       Manual      0  \n",
       "3      Dealer       Manual      0  \n",
       "4      Dealer       Manual      0  "
      ]
     },
     "execution_count": 3,
     "metadata": {},
     "output_type": "execute_result"
    }
   ],
   "source": [
    "#first five rows of the dataset\n",
    "df.head()"
   ]
  },
  {
   "cell_type": "code",
   "execution_count": 4,
   "metadata": {},
   "outputs": [
    {
     "data": {
      "text/plain": [
       "Car_Name         False\n",
       "Year             False\n",
       "Selling_Price    False\n",
       "Present_Price    False\n",
       "Kms_Driven       False\n",
       "Fuel_Type        False\n",
       "Seller_Type      False\n",
       "Transmission     False\n",
       "Owner            False\n",
       "dtype: bool"
      ]
     },
     "execution_count": 4,
     "metadata": {},
     "output_type": "execute_result"
    }
   ],
   "source": [
    "df.isnull().any()"
   ]
  },
  {
   "cell_type": "code",
   "execution_count": 5,
   "metadata": {},
   "outputs": [
    {
     "data": {
      "text/plain": [
       "(301, 9)"
      ]
     },
     "execution_count": 5,
     "metadata": {},
     "output_type": "execute_result"
    }
   ],
   "source": [
    "#checking the no of rows and columns\n",
    "df.shape\n",
    "\n",
    "\n"
   ]
  },
  {
   "cell_type": "code",
   "execution_count": 6,
   "metadata": {},
   "outputs": [
    {
     "name": "stdout",
     "output_type": "stream",
     "text": [
      "<class 'pandas.core.frame.DataFrame'>\n",
      "RangeIndex: 301 entries, 0 to 300\n",
      "Data columns (total 9 columns):\n",
      " #   Column         Non-Null Count  Dtype  \n",
      "---  ------         --------------  -----  \n",
      " 0   Car_Name       301 non-null    object \n",
      " 1   Year           301 non-null    int64  \n",
      " 2   Selling_Price  301 non-null    float64\n",
      " 3   Present_Price  301 non-null    float64\n",
      " 4   Kms_Driven     301 non-null    int64  \n",
      " 5   Fuel_Type      301 non-null    object \n",
      " 6   Seller_Type    301 non-null    object \n",
      " 7   Transmission   301 non-null    object \n",
      " 8   Owner          301 non-null    int64  \n",
      "dtypes: float64(2), int64(3), object(4)\n",
      "memory usage: 21.3+ KB\n"
     ]
    }
   ],
   "source": [
    "#getting some info about the dataset\n",
    "df.info()"
   ]
  },
  {
   "cell_type": "code",
   "execution_count": 7,
   "metadata": {},
   "outputs": [
    {
     "data": {
      "text/plain": [
       "Car_Name         0\n",
       "Year             0\n",
       "Selling_Price    0\n",
       "Present_Price    0\n",
       "Kms_Driven       0\n",
       "Fuel_Type        0\n",
       "Seller_Type      0\n",
       "Transmission     0\n",
       "Owner            0\n",
       "dtype: int64"
      ]
     },
     "execution_count": 7,
     "metadata": {},
     "output_type": "execute_result"
    }
   ],
   "source": [
    "#checking the no of missing values\n",
    "df.isnull().sum()"
   ]
  },
  {
   "cell_type": "code",
   "execution_count": 8,
   "metadata": {},
   "outputs": [
    {
     "name": "stdout",
     "output_type": "stream",
     "text": [
      "Petrol    239\n",
      "Diesel     60\n",
      "CNG         2\n",
      "Name: Fuel_Type, dtype: int64\n",
      "Dealer        195\n",
      "Individual    106\n",
      "Name: Seller_Type, dtype: int64\n",
      "Manual       261\n",
      "Automatic     40\n",
      "Name: Transmission, dtype: int64\n"
     ]
    }
   ],
   "source": [
    "#checking the distribution of categorical data\n",
    "print(df.Fuel_Type.value_counts())\n",
    "print(df.Seller_Type.value_counts())\n",
    "print(df.Transmission.value_counts())"
   ]
  },
  {
   "cell_type": "code",
   "execution_count": 9,
   "metadata": {},
   "outputs": [],
   "source": [
    "# encoding \"Fuel_Type\" Column\n",
    "df.replace({'Fuel_Type':{'Petrol':0,'Diesel':1,'CNG':2}},inplace=True)\n",
    "\n",
    "# encoding \"Seller_Type\" Column\n",
    "df.replace({'Seller_Type':{'Dealer':0,'Individual':1}},inplace=True)\n",
    "\n",
    "# encoding \"Transmission\" Column\n",
    "df.replace({'Transmission':{'Manual':0,'Automatic':1}},inplace=True)"
   ]
  },
  {
   "cell_type": "code",
   "execution_count": 10,
   "metadata": {},
   "outputs": [
    {
     "data": {
      "text/html": [
       "<div>\n",
       "<style scoped>\n",
       "    .dataframe tbody tr th:only-of-type {\n",
       "        vertical-align: middle;\n",
       "    }\n",
       "\n",
       "    .dataframe tbody tr th {\n",
       "        vertical-align: top;\n",
       "    }\n",
       "\n",
       "    .dataframe thead th {\n",
       "        text-align: right;\n",
       "    }\n",
       "</style>\n",
       "<table border=\"1\" class=\"dataframe\">\n",
       "  <thead>\n",
       "    <tr style=\"text-align: right;\">\n",
       "      <th></th>\n",
       "      <th>Car_Name</th>\n",
       "      <th>Year</th>\n",
       "      <th>Selling_Price</th>\n",
       "      <th>Present_Price</th>\n",
       "      <th>Kms_Driven</th>\n",
       "      <th>Fuel_Type</th>\n",
       "      <th>Seller_Type</th>\n",
       "      <th>Transmission</th>\n",
       "      <th>Owner</th>\n",
       "    </tr>\n",
       "  </thead>\n",
       "  <tbody>\n",
       "    <tr>\n",
       "      <th>0</th>\n",
       "      <td>ritz</td>\n",
       "      <td>2014</td>\n",
       "      <td>3.35</td>\n",
       "      <td>5.59</td>\n",
       "      <td>27000</td>\n",
       "      <td>0</td>\n",
       "      <td>0</td>\n",
       "      <td>0</td>\n",
       "      <td>0</td>\n",
       "    </tr>\n",
       "    <tr>\n",
       "      <th>1</th>\n",
       "      <td>sx4</td>\n",
       "      <td>2013</td>\n",
       "      <td>4.75</td>\n",
       "      <td>9.54</td>\n",
       "      <td>43000</td>\n",
       "      <td>1</td>\n",
       "      <td>0</td>\n",
       "      <td>0</td>\n",
       "      <td>0</td>\n",
       "    </tr>\n",
       "    <tr>\n",
       "      <th>2</th>\n",
       "      <td>ciaz</td>\n",
       "      <td>2017</td>\n",
       "      <td>7.25</td>\n",
       "      <td>9.85</td>\n",
       "      <td>6900</td>\n",
       "      <td>0</td>\n",
       "      <td>0</td>\n",
       "      <td>0</td>\n",
       "      <td>0</td>\n",
       "    </tr>\n",
       "    <tr>\n",
       "      <th>3</th>\n",
       "      <td>wagon r</td>\n",
       "      <td>2011</td>\n",
       "      <td>2.85</td>\n",
       "      <td>4.15</td>\n",
       "      <td>5200</td>\n",
       "      <td>0</td>\n",
       "      <td>0</td>\n",
       "      <td>0</td>\n",
       "      <td>0</td>\n",
       "    </tr>\n",
       "    <tr>\n",
       "      <th>4</th>\n",
       "      <td>swift</td>\n",
       "      <td>2014</td>\n",
       "      <td>4.60</td>\n",
       "      <td>6.87</td>\n",
       "      <td>42450</td>\n",
       "      <td>1</td>\n",
       "      <td>0</td>\n",
       "      <td>0</td>\n",
       "      <td>0</td>\n",
       "    </tr>\n",
       "  </tbody>\n",
       "</table>\n",
       "</div>"
      ],
      "text/plain": [
       "  Car_Name  Year  Selling_Price  Present_Price  Kms_Driven  Fuel_Type  \\\n",
       "0     ritz  2014           3.35           5.59       27000          0   \n",
       "1      sx4  2013           4.75           9.54       43000          1   \n",
       "2     ciaz  2017           7.25           9.85        6900          0   \n",
       "3  wagon r  2011           2.85           4.15        5200          0   \n",
       "4    swift  2014           4.60           6.87       42450          1   \n",
       "\n",
       "   Seller_Type  Transmission  Owner  \n",
       "0            0             0      0  \n",
       "1            0             0      0  \n",
       "2            0             0      0  \n",
       "3            0             0      0  \n",
       "4            0             0      0  "
      ]
     },
     "execution_count": 10,
     "metadata": {},
     "output_type": "execute_result"
    }
   ],
   "source": [
    "df.head()"
   ]
  },
  {
   "cell_type": "code",
   "execution_count": 11,
   "metadata": {},
   "outputs": [],
   "source": [
    "#splitting the data into training and testing\n",
    "X=df.drop([\"Car_Name\",\"Selling_Price\"],axis=1)\n"
   ]
  },
  {
   "cell_type": "code",
   "execution_count": 12,
   "metadata": {},
   "outputs": [],
   "source": [
    "Y=df[\"Selling_Price\"]"
   ]
  },
  {
   "cell_type": "code",
   "execution_count": 13,
   "metadata": {},
   "outputs": [
    {
     "name": "stdout",
     "output_type": "stream",
     "text": [
      "     Year  Present_Price  Kms_Driven  Fuel_Type  Seller_Type  Transmission  \\\n",
      "0    2014           5.59       27000          0            0             0   \n",
      "1    2013           9.54       43000          1            0             0   \n",
      "2    2017           9.85        6900          0            0             0   \n",
      "3    2011           4.15        5200          0            0             0   \n",
      "4    2014           6.87       42450          1            0             0   \n",
      "..    ...            ...         ...        ...          ...           ...   \n",
      "296  2016          11.60       33988          1            0             0   \n",
      "297  2015           5.90       60000          0            0             0   \n",
      "298  2009          11.00       87934          0            0             0   \n",
      "299  2017          12.50        9000          1            0             0   \n",
      "300  2016           5.90        5464          0            0             0   \n",
      "\n",
      "     Owner  \n",
      "0        0  \n",
      "1        0  \n",
      "2        0  \n",
      "3        0  \n",
      "4        0  \n",
      "..     ...  \n",
      "296      0  \n",
      "297      0  \n",
      "298      0  \n",
      "299      0  \n",
      "300      0  \n",
      "\n",
      "[301 rows x 7 columns]\n"
     ]
    }
   ],
   "source": [
    "print(X)"
   ]
  },
  {
   "cell_type": "code",
   "execution_count": 14,
   "metadata": {},
   "outputs": [
    {
     "name": "stdout",
     "output_type": "stream",
     "text": [
      "0       3.35\n",
      "1       4.75\n",
      "2       7.25\n",
      "3       2.85\n",
      "4       4.60\n",
      "       ...  \n",
      "296     9.50\n",
      "297     4.00\n",
      "298     3.35\n",
      "299    11.50\n",
      "300     5.30\n",
      "Name: Selling_Price, Length: 301, dtype: float64\n"
     ]
    }
   ],
   "source": [
    "print(Y)"
   ]
  },
  {
   "cell_type": "code",
   "execution_count": 15,
   "metadata": {},
   "outputs": [],
   "source": [
    "X_train,X_test,Y_train,Y_test=train_test_split(X,Y,test_size=0.33,random_state=10)"
   ]
  },
  {
   "cell_type": "code",
   "execution_count": 16,
   "metadata": {},
   "outputs": [
    {
     "data": {
      "text/plain": [
       "(201, 7)"
      ]
     },
     "execution_count": 16,
     "metadata": {},
     "output_type": "execute_result"
    }
   ],
   "source": [
    "X_train.shape"
   ]
  },
  {
   "cell_type": "code",
   "execution_count": 17,
   "metadata": {},
   "outputs": [
    {
     "data": {
      "text/plain": [
       "(100, 7)"
      ]
     },
     "execution_count": 17,
     "metadata": {},
     "output_type": "execute_result"
    }
   ],
   "source": [
    "X_test.shape"
   ]
  },
  {
   "cell_type": "code",
   "execution_count": 18,
   "metadata": {},
   "outputs": [],
   "source": [
    "#model training\n",
    "lm=LinearRegression()"
   ]
  },
  {
   "cell_type": "code",
   "execution_count": 19,
   "metadata": {},
   "outputs": [
    {
     "data": {
      "text/plain": [
       "LinearRegression()"
      ]
     },
     "execution_count": 19,
     "metadata": {},
     "output_type": "execute_result"
    }
   ],
   "source": [
    "lm.fit(X_train,Y_train)"
   ]
  },
  {
   "cell_type": "code",
   "execution_count": 20,
   "metadata": {},
   "outputs": [],
   "source": [
    "#model evaluation\n",
    "#prediction on training data\n",
    "training_data_prediction=lm.predict(X_train)"
   ]
  },
  {
   "cell_type": "code",
   "execution_count": 21,
   "metadata": {},
   "outputs": [
    {
     "name": "stdout",
     "output_type": "stream",
     "text": [
      "[ 4.03665063e+00  4.11287020e+00  9.32201976e-02  1.98407735e+00\n",
      "  1.74969372e+00  7.22207587e+00  1.27632887e+00 -1.20320073e+00\n",
      " -7.16427891e-02  2.66623228e+00  5.69604970e+00  1.04222371e+00\n",
      "  3.95865378e+00  2.42275821e+00  5.42119913e+00  1.88691402e+00\n",
      "  5.52937417e+00  6.91347971e+00  5.96615542e+00  1.09980728e+00\n",
      "  6.19293665e+00  3.01326668e+00 -4.16897887e+00  9.23429654e+00\n",
      "  4.22184213e+00  1.83610983e+00  5.93562862e+00  7.61642993e+00\n",
      "  2.01417784e+01  6.10782366e+00  5.76119980e+00  4.93508646e+00\n",
      " -2.07561534e+00  4.12606759e+01  8.67259318e-01  2.87077253e+00\n",
      "  6.08318578e+00  3.27731040e+00  2.80155564e+00  7.08262129e-01\n",
      "  7.17642052e+00  2.08752733e-01  3.89176812e+00  4.48597649e+00\n",
      "  3.24549742e-01  1.67736671e+00  4.87535053e+00  5.09148208e+00\n",
      "  6.24605105e+00  7.17632293e+00  7.21587942e+00  2.25744987e+00\n",
      "  9.77675642e+00  3.94581361e-01  1.52157543e+00  6.34561464e+00\n",
      "  5.15635041e+00  7.29816061e+00  3.82569419e+00  4.12673925e+00\n",
      "  5.72822352e-01  2.09672076e+00  8.05288277e+00  8.92083825e+00\n",
      "  6.92874071e-01  7.19708619e+00 -1.24601047e+00 -2.19807759e+00\n",
      "  4.17556834e+00  1.78676707e-02  5.35746151e-01  1.34367825e+00\n",
      "  8.97593204e+00  8.37730366e+00  1.25851131e+00  1.48251941e+00\n",
      "  5.27602887e+00  5.29084516e-01  4.27009029e+00  9.71955123e+00\n",
      "  8.25292166e+00  2.98134931e+00  1.02198512e+01  8.36609533e+00\n",
      "  1.01243545e+01  1.41399997e+01  1.61267142e+01  4.84182589e+00\n",
      "  1.41898099e+00  2.90381765e-01  2.35087939e+00  2.98454104e+00\n",
      "  4.74872595e+00  5.85701559e-01  8.18321412e+00  4.68878499e+00\n",
      "  6.89328530e+00  7.31890385e+00  3.04969320e+00  6.77630606e+00\n",
      " -5.74616101e-01  5.53833069e+00 -5.95015688e-01  1.90003779e+00\n",
      " -1.16084905e-02  1.47164862e+01  1.67571498e+00  8.40590984e+00\n",
      "  6.62730021e+00  1.78924714e+01  2.20316634e+00  4.38505449e+00\n",
      "  1.66601895e+01  3.69552764e+00  4.39559153e+00  7.82201988e+00\n",
      "  2.41153772e+00  2.83900179e+00  6.03919430e-01  1.92122282e+00\n",
      "  2.65028095e+00  2.93441700e+00  4.35153061e+00  2.26551189e-01\n",
      "  8.11821472e+00  7.68058164e+00  1.09752203e+01  7.80069630e+00\n",
      "  1.99926393e+00  5.70714680e+00  1.62175716e+01 -4.23460350e-01\n",
      "  5.71436824e+00  6.36147089e+00  4.48616644e+00  7.59060402e+00\n",
      "  1.38964148e+00  7.75818514e+00 -4.36971466e-01  4.63042543e+00\n",
      "  3.57017885e+00  1.80153743e+00  1.28960397e+00  5.13018880e+00\n",
      "  3.75824717e+00  4.81703182e+00  2.17013071e+00  6.42979670e+00\n",
      " -3.01057721e-02  1.65074987e+00  1.60504629e+01  6.06065828e+00\n",
      "  3.56114545e+00  5.12043977e+00  5.94004811e+00  1.59804118e+00\n",
      "  1.68527928e+00  9.70161376e+00  2.09355181e+00  1.07442372e+00\n",
      " -1.97702126e-01  7.19604785e+00  1.16807876e+00  6.25228825e+00\n",
      "  3.73757347e+00  4.37812842e+00  6.40339585e+00  8.85361438e+00\n",
      "  3.11220080e+00  9.68868983e+00  4.61119176e+00  1.78924714e+01\n",
      "  7.21517062e+00  2.21164081e+00  2.17913945e-01  4.32853649e+00\n",
      "  1.71830771e+00  1.32542553e+00  5.81353803e+00  5.27464578e+00\n",
      "  3.12925469e+00  7.74786346e+00 -2.92650291e+00  2.41329209e+00\n",
      " -3.31006361e+00  7.25072114e+00  1.94274379e+01  1.63508334e+00\n",
      "  4.38131701e-01  2.72076419e+00  8.03544719e+00  6.97469686e+00\n",
      "  7.96682499e+00  2.68696727e+00  7.82243725e+00  5.27247637e+00\n",
      "  1.64153029e+00  1.80921571e-01  8.40590984e+00 -1.16641598e+00\n",
      "  6.52477676e+00]\n"
     ]
    }
   ],
   "source": [
    "print(training_data_prediction)"
   ]
  },
  {
   "cell_type": "code",
   "execution_count": 22,
   "metadata": {},
   "outputs": [
    {
     "name": "stdout",
     "output_type": "stream",
     "text": [
      "R error score is: 0.8915509888825645\n"
     ]
    }
   ],
   "source": [
    "#R square error\n",
    "error_score=metrics.r2_score(Y_train,training_data_prediction)\n",
    "print(\"R error score is:\",error_score)"
   ]
  },
  {
   "cell_type": "code",
   "execution_count": 23,
   "metadata": {},
   "outputs": [
    {
     "data": {
      "image/png": "[encoded data removed]",
      "text/plain": [
       "<Figure size 432x288 with 1 Axes>"
      ]
     },
     "metadata": {
      "needs_background": "light"
     },
     "output_type": "display_data"
    }
   ],
   "source": [
    "plt.scatter(Y_train, training_data_prediction)\n",
    "plt.xlabel(\"Actual Price\")\n",
    "plt.ylabel(\"Predicted Price\")\n",
    "plt.title(\" Actual Prices vs Predicted Prices\")\n",
    "plt.show()"
   ]
  },
  {
   "cell_type": "code",
   "execution_count": 24,
   "metadata": {},
   "outputs": [],
   "source": [
    "test_data=lm.predict(X_test)"
   ]
  },
  {
   "cell_type": "code",
   "execution_count": 25,
   "metadata": {},
   "outputs": [
    {
     "data": {
      "text/plain": [
       "array([ 7.84361557,  0.71878799,  1.98204954,  1.97405745,  5.28856332,\n",
       "        6.70938767, 19.82108553, -3.73290911,  0.97086323,  4.47476285,\n",
       "       -0.04538692,  8.81834071,  4.42018228, -0.99106105,  5.88281909,\n",
       "        3.5098188 ,  4.55308131, -5.74886899,  2.74370499,  5.90230867,\n",
       "        1.95065138,  3.39638098,  7.34903765, 21.4643125 , -1.63311556,\n",
       "        0.97381041, -1.18801072, -3.10368169,  1.46373414, -3.37664797,\n",
       "       -0.14731975, 14.21913377,  4.59592997,  7.87787355, -0.0556841 ,\n",
       "        6.58474371,  2.61893399,  3.62570751,  1.60474339,  4.29584187,\n",
       "        6.22225164,  0.32665317,  6.42149818,  0.10568732, 10.3995337 ,\n",
       "        3.49868389, -0.76421167,  4.92890207,  9.03787925,  0.47730463,\n",
       "       -1.18690879,  6.42102923,  0.8625199 ,  9.75309656,  4.81090556,\n",
       "        4.51241872,  9.39726018, -0.15379373,  6.89477478,  9.89490878,\n",
       "        1.50592854, -2.12403437,  2.30584361,  6.37765544,  5.94766647,\n",
       "        6.67384593,  3.30499348, -0.08178863,  5.03323684,  4.41566407,\n",
       "        5.11509873,  5.58852245,  9.19343619,  0.80496073,  6.04326368,\n",
       "        1.42644961,  1.40902576,  4.74766204,  8.83871717,  7.04362129,\n",
       "        2.88626501,  0.55398531,  0.92635465,  3.65042197,  9.09106423,\n",
       "        4.37819308, 11.54156163,  5.42608114,  6.45316986, 10.57521467,\n",
       "        0.55390061,  7.84326994,  0.89180129, -2.58197106,  3.08405539,\n",
       "        7.8457434 ,  4.77299463,  5.23327618,  4.51760125,  1.26383087])"
      ]
     },
     "execution_count": 25,
     "metadata": {},
     "output_type": "execute_result"
    }
   ],
   "source": [
    "test_data"
   ]
  },
  {
   "cell_type": "code",
   "execution_count": 26,
   "metadata": {},
   "outputs": [
    {
     "name": "stdout",
     "output_type": "stream",
     "text": [
      "R error score is: 0.8370192773964837\n"
     ]
    }
   ],
   "source": [
    "#R2 score is how well our model if fitting the line\n",
    "error_score=metrics.r2_score(Y_test,test_data)\n",
    "print(\"R error score is:\",error_score)"
   ]
  },
  {
   "cell_type": "code",
   "execution_count": 27,
   "metadata": {},
   "outputs": [
    {
     "data": {
      "image/png": "[encoded data removed]",
      "text/plain": [
       "<Figure size 432x288 with 1 Axes>"
      ]
     },
     "metadata": {
      "needs_background": "light"
     },
     "output_type": "display_data"
    }
   ],
   "source": [
    "plt.scatter(Y_test,test_data)\n",
    "plt.xlabel(\"Actual price\")\n",
    "plt.ylabel(\"Predicted value\")\n",
    "plt.title(\"Actual vs Predicted\")\n",
    "plt.show()"
   ]
  },
  {
   "cell_type": "code",
   "execution_count": 28,
   "metadata": {},
   "outputs": [],
   "source": [
    "#lasso regression\n",
    "lr=Lasso()"
   ]
  },
  {
   "cell_type": "code",
   "execution_count": 29,
   "metadata": {},
   "outputs": [
    {
     "data": {
      "text/plain": [
       "Lasso()"
      ]
     },
     "execution_count": 29,
     "metadata": {},
     "output_type": "execute_result"
    }
   ],
   "source": [
    "lr.fit(X_train,Y_train)"
   ]
  },
  {
   "cell_type": "code",
   "execution_count": 30,
   "metadata": {},
   "outputs": [],
   "source": [
    "train_data=lr.predict(X_train)"
   ]
  },
  {
   "cell_type": "code",
   "execution_count": 31,
   "metadata": {},
   "outputs": [
    {
     "data": {
      "text/plain": [
       "array([ 3.56516031e+00,  3.68078613e+00,  1.13219016e+00,  2.84770707e+00,\n",
       "        2.56644266e+00,  5.50634468e+00,  2.00988198e+00,  1.08749988e+00,\n",
       "        1.11365494e+00,  2.62400819e+00,  6.19246355e+00,  1.90008982e+00,\n",
       "        3.80220967e+00,  2.53271513e+00,  5.45810090e+00,  2.56636158e+00,\n",
       "        5.46622404e+00,  6.54168926e+00,  4.53416216e+00,  1.77455811e+00,\n",
       "        6.09461176e+00,  2.45311045e+00, -2.33822059e+00,  7.87379544e+00,\n",
       "        5.24261775e+00,  2.49658636e+00,  5.61631137e+00,  7.72955791e+00,\n",
       "        1.90347798e+01,  5.98151018e+00,  5.57374193e+00,  3.21108572e+00,\n",
       "       -6.05000861e-01,  4.56190795e+01,  1.47082293e+00,  2.64167374e+00,\n",
       "        4.68967684e+00,  3.50296630e+00,  2.74721752e+00,  1.47366974e+00,\n",
       "        7.05980641e+00,  1.26933420e+00,  3.92217404e+00,  4.39650343e+00,\n",
       "        1.37165364e+00,  2.48844804e+00,  4.96500032e+00,  4.81966710e+00,\n",
       "        4.58578507e+00,  5.50517954e+00,  5.53434343e+00,  3.00137594e+00,\n",
       "        8.62835741e+00,  1.44041311e+00,  1.61649742e+00,  6.40896544e+00,\n",
       "        5.30066179e+00,  7.63524586e+00,  3.48084516e+00,  3.76992294e+00,\n",
       "        1.32388592e+00,  2.79760566e+00,  6.37810936e+00,  9.64559038e+00,\n",
       "        1.64923375e+00,  5.66763996e+00,  5.38307612e-02, -7.64940698e-01,\n",
       "        4.69409428e+00,  1.03960718e+00,  1.46866724e+00,  2.06918454e+00,\n",
       "        7.51990234e+00,  8.60476454e+00,  2.14824929e+00,  2.41346173e+00,\n",
       "        5.16051745e+00,  1.64118316e+00,  4.57990523e+00,  8.89591110e+00,\n",
       "        8.43948071e+00,  2.41069736e+00,  9.81702524e+00,  9.14067068e+00,\n",
       "        9.69012527e+00,  1.36744363e+01,  1.42650324e+01,  3.85496178e+00,\n",
       "        2.19868905e+00,  1.53735915e+00,  3.10892215e+00,  2.41493867e+00,\n",
       "        5.02898159e+00,  1.52267045e+00,  8.34685052e+00,  3.09489968e+00,\n",
       "        6.71753316e+00,  8.44585566e+00,  2.71587707e+00,  5.03098961e+00,\n",
       "        6.80548194e-01,  4.02589557e+00,  6.45891889e-01,  2.74509012e+00,\n",
       "        9.61185822e-01,  1.45491123e+01,  1.37169819e+00,  6.74230174e+00,\n",
       "        5.18047298e+00,  1.64496550e+01,  2.50838674e+00,  3.99190062e+00,\n",
       "        1.47416909e+01,  2.83610656e+00,  4.32168730e+00,  6.22959916e+00,\n",
       "        2.55177317e+00,  2.47515404e+00,  1.56220257e+00,  2.60968794e+00,\n",
       "        2.20074091e+00,  2.85105696e+00,  3.94735273e+00,  1.29728816e+00,\n",
       "        7.20781949e+00,  7.91117727e+00,  1.14442913e+01,  8.85911979e+00,\n",
       "        2.47420721e+00,  5.50946262e+00,  1.49207158e+01, -2.88292456e-02,\n",
       "        5.49641325e+00,  5.30491299e+00,  3.89401715e+00,  6.43298262e+00,\n",
       "        2.48454436e+00,  6.14477297e+00,  8.72816103e-01,  4.45433851e+00,\n",
       "        9.04734583e+00,  2.45517427e+00,  2.00487696e+00,  5.26589719e+00,\n",
       "        4.74719274e+00,  4.60417803e+00,  2.89515577e+00,  4.78692721e+00,\n",
       "        9.67554772e-01,  2.43496207e+00,  1.46986549e+01,  4.63544230e+00,\n",
       "        3.47150650e+00,  4.85286329e+00,  4.22595673e+00,  2.40643743e+00,\n",
       "        1.46465468e+00,  8.25197243e+00,  2.09525234e+00,  1.95873037e+00,\n",
       "        9.59729514e-01,  6.16824404e+00,  2.02807885e+00,  6.28494955e+00,\n",
       "        4.26128051e+00,  3.98269698e+00,  4.68617267e+00,  7.27608673e+00,\n",
       "        2.98438407e+00,  9.87749127e+00,  4.41368301e+00,  1.64496550e+01,\n",
       "        3.70992048e+00,  2.23028310e+00,  1.25033265e+00,  4.20540722e+00,\n",
       "        2.36495622e+00,  2.05549749e+00,  5.65083960e+00,  5.15867955e+00,\n",
       "        2.87733850e+00,  8.00058407e+00, -2.22003751e+00,  1.88355597e+00,\n",
       "       -1.77810245e+00,  5.73513800e+00,  1.83177805e+01,  2.43905383e+00,\n",
       "        2.72080729e+00,  2.70930486e+00,  6.48226111e+00,  5.53854927e+00,\n",
       "        8.05930388e+00,  2.80001836e+00,  6.11038143e+00,  4.05482911e+00,\n",
       "        2.26444098e+00,  1.18079471e+00,  6.74230174e+00,  2.98242757e-01,\n",
       "        6.28068367e+00])"
      ]
     },
     "execution_count": 31,
     "metadata": {},
     "output_type": "execute_result"
    }
   ],
   "source": [
    "train_data"
   ]
  },
  {
   "cell_type": "code",
   "execution_count": 32,
   "metadata": {},
   "outputs": [
    {
     "name": "stdout",
     "output_type": "stream",
     "text": [
      "R error score is: 0.8465667491999447\n"
     ]
    }
   ],
   "source": [
    "#R square error\n",
    "error_score=metrics.r2_score(Y_train,train_data)\n",
    "print(\"R error score is:\",error_score)"
   ]
  },
  {
   "cell_type": "code",
   "execution_count": 33,
   "metadata": {},
   "outputs": [
    {
     "data": {
      "image/png": "[encoded data removed]",
      "text/plain": [
       "<Figure size 432x288 with 1 Axes>"
      ]
     },
     "metadata": {
      "needs_background": "light"
     },
     "output_type": "display_data"
    }
   ],
   "source": [
    "plt.scatter(Y_train,train_data)\n",
    "plt.xlabel(\"Actual price\")\n",
    "plt.ylabel(\"Predicted value\")\n",
    "plt.title(\"Actual vs Predicted\")\n",
    "plt.show()"
   ]
  },
  {
   "cell_type": "code",
   "execution_count": 34,
   "metadata": {},
   "outputs": [
    {
     "data": {
      "text/plain": [
       "array([ 8.12782335,  1.70782444,  1.95991609,  2.67385794,  4.85686   ,\n",
       "        5.27898621, 18.84087534, -0.88815669,  1.8150762 ,  4.3816023 ,\n",
       "        1.16062241,  7.51253969,  4.32417045,  0.35940443,  4.09480439,\n",
       "        4.68380167,  4.47586198, -7.10091854,  2.5090541 ,  5.86517359,\n",
       "        2.642755  ,  3.26614813,  5.98843284, 20.30734545,  0.75449561,\n",
       "        1.8393735 , -0.12225131, -0.28425897,  2.23928757, -1.62075   ,\n",
       "        0.3126855 , 11.92214344,  4.55771108,  8.17334674,  1.13486149,\n",
       "        5.12392218,  2.76396226,  3.73368534,  2.5403999 ,  4.00218185,\n",
       "        4.79884423,  1.19202379,  4.77589981,  0.21436243,  9.0820209 ,\n",
       "        4.01931947,  0.22957425,  4.73245476,  9.80111919,  2.87702   ,\n",
       "        0.09990888,  6.92360055,  1.6695955 ,  8.46280272,  4.58094018,\n",
       "        3.99155485,  8.32521984,  1.19823719,  6.71951244,  8.35961914,\n",
       "        2.24916514,  0.33438796,  3.05209618,  5.08098004,  4.23004151,\n",
       "        3.71953137,  3.68217057,  0.90416046,  3.4914783 ,  4.16895494,\n",
       "        4.94742182,  3.76713858,  7.39677404,  1.9775846 ,  4.21918618,\n",
       "        2.14445132,  2.1613049 ,  5.02756782,  7.37606305,  7.44772495,\n",
       "        3.16198008,  1.25960226,  1.75442169,  4.7282117 ,  9.87179354,\n",
       "        4.11916197, 12.25776253,  5.04639289,  6.23082058, 10.58727682,\n",
       "        1.50683184,  6.35331035,  1.73115132, -1.02999628,  4.23275609,\n",
       "        8.13065089,  4.56075663,  4.79094072,  4.27421915,  2.15531814])"
      ]
     },
     "execution_count": 34,
     "metadata": {},
     "output_type": "execute_result"
    }
   ],
   "source": [
    "test_data=lr.predict(X_test)\n",
    "test_data"
   ]
  },
  {
   "cell_type": "code",
   "execution_count": 35,
   "metadata": {},
   "outputs": [
    {
     "name": "stdout",
     "output_type": "stream",
     "text": [
      "R error score is: 0.8111163707399749\n"
     ]
    }
   ],
   "source": [
    "#R square error\n",
    "error_score=metrics.r2_score(Y_test,test_data)\n",
    "print(\"R error score is:\",error_score)"
   ]
  },
  {
   "cell_type": "code",
   "execution_count": 36,
   "metadata": {},
   "outputs": [],
   "source": [
    "from sklearn.ensemble import AdaBoostRegressor\n"
   ]
  },
  {
   "cell_type": "code",
   "execution_count": 37,
   "metadata": {},
   "outputs": [],
   "source": [
    "abr=AdaBoostRegressor()"
   ]
  },
  {
   "cell_type": "code",
   "execution_count": 38,
   "metadata": {},
   "outputs": [
    {
     "data": {
      "text/plain": [
       "AdaBoostRegressor()"
      ]
     },
     "execution_count": 38,
     "metadata": {},
     "output_type": "execute_result"
    }
   ],
   "source": [
    "abr.fit(X_train,Y_train)"
   ]
  },
  {
   "cell_type": "code",
   "execution_count": 39,
   "metadata": {},
   "outputs": [],
   "source": [
    "train_data=abr.predict(X_train)"
   ]
  },
  {
   "cell_type": "code",
   "execution_count": 40,
   "metadata": {},
   "outputs": [
    {
     "name": "stdout",
     "output_type": "stream",
     "text": [
      "R error score is: 0.9680772496384459\n"
     ]
    }
   ],
   "source": [
    "#R square error\n",
    "error_score=metrics.r2_score(Y_train,train_data)\n",
    "print(\"R error score is:\",error_score)"
   ]
  },
  {
   "cell_type": "code",
   "execution_count": 41,
   "metadata": {},
   "outputs": [
    {
     "data": {
      "image/png": "[encoded data removed]",
      "text/plain": [
       "<Figure size 432x288 with 1 Axes>"
      ]
     },
     "metadata": {
      "needs_background": "light"
     },
     "output_type": "display_data"
    }
   ],
   "source": [
    "plt.scatter(Y_train,train_data)\n",
    "plt.xlabel(\"Actual price\")\n",
    "plt.ylabel(\"Predicted value\")\n",
    "plt.title(\"Actual vs Predicted\")\n",
    "plt.show()"
   ]
  },
  {
   "cell_type": "code",
   "execution_count": 42,
   "metadata": {},
   "outputs": [],
   "source": [
    "test_data=abr.predict(X_test)"
   ]
  },
  {
   "cell_type": "code",
   "execution_count": 43,
   "metadata": {},
   "outputs": [
    {
     "name": "stdout",
     "output_type": "stream",
     "text": [
      "R error score is: 0.8816639177733395\n"
     ]
    }
   ],
   "source": [
    "#R square error\n",
    "error_score=metrics.r2_score(Y_test,test_data)\n",
    "print(\"R error score is:\",error_score)"
   ]
  },
  {
   "cell_type": "code",
   "execution_count": 44,
   "metadata": {},
   "outputs": [
    {
     "data": {
      "image/png": "[encoded data removed]",
      "text/plain": [
       "<Figure size 432x288 with 1 Axes>"
      ]
     },
     "metadata": {
      "needs_background": "light"
     },
     "output_type": "display_data"
    }
   ],
   "source": [
    "plt.scatter(Y_test,test_data)\n",
    "plt.xlabel(\"Actual price\")\n",
    "plt.ylabel(\"Predicted value\")\n",
    "plt.title(\"Actual vs Predicted\")\n",
    "plt.show()"
   ]
  },
  {
   "cell_type": "code",
   "execution_count": 57,
   "metadata": {},
   "outputs": [],
   "source": [
    "import pickle"
   ]
  },
  {
   "cell_type": "code",
   "execution_count": 58,
   "metadata": {},
   "outputs": [],
   "source": [
    "with open('lm.pickle','wb')as f:\n",
    "    pickle.dump(lm,f)\n",
    "    "
   ]
  },
  {
   "cell_type": "code",
   "execution_count": 59,
   "metadata": {},
   "outputs": [],
   "source": [
    "with open('lm.pickle','rb')as f:\n",
    "    mp=pickle.load(f)"
   ]
  },
  {
   "cell_type": "code",
   "execution_count": 60,
   "metadata": {},
   "outputs": [
    {
     "data": {
      "text/plain": [
       "array([1.66833105])"
      ]
     },
     "execution_count": 60,
     "metadata": {},
     "output_type": "execute_result"
    }
   ],
   "source": [
    "mp.predict([[2014,3.23,45000,1,1,0,1]])"
   ]
  },
  {
   "cell_type": "code",
   "execution_count": null,
   "metadata": {},
   "outputs": [],
   "source": []
  }
 ],
 "metadata": {
  "kernelspec": {
   "display_name": "Python 3",
   "language": "python",
   "name": "python3"
  },
  "language_info": {
   "codemirror_mode": {
    "name": "ipython",
    "version": 3
   },
   "file_extension": ".py",
   "mimetype": "text/x-python",
   "name": "python",
   "nbconvert_exporter": "python",
   "pygments_lexer": "ipython3",
   "version": "3.8.5"
  }
 },
 "nbformat": 4,
 "nbformat_minor": 4
}
